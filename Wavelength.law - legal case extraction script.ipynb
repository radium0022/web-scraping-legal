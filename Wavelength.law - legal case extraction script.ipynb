{
 "cells": [
  {
   "cell_type": "markdown",
   "metadata": {},
   "source": [
    "## Wavelenght.law assignment (1)"
   ]
  },
  {
   "cell_type": "markdown",
   "metadata": {},
   "source": [
    "**Relevant information**\n",
    "\n",
    "How to extract data from a text: https://www.computerhope.com/issues/ch001721.htm\n"
   ]
  },
  {
   "cell_type": "markdown",
   "metadata": {},
   "source": [
    "**Exercice – Data Extraction**\n",
    "\n",
    "[File: Data Extraction.xlsx]\n",
    "\n",
    "<u>Actions</u>\n",
    "\n",
    "1) Create an application/script to extract the first 30 results from a publicly available resource\n",
    "\n",
    "a. File/[Template]/[C1]\n",
    "\n",
    "2) Extract information from the collected data as specified in the template and save to an Excel file"
   ]
  },
  {
   "cell_type": "code",
   "execution_count": 1,
   "metadata": {},
   "outputs": [],
   "source": [
    "# Import relevant libraries\n",
    "import urllib3\n",
    "from bs4 import BeautifulSoup\n",
    "import re as re\n",
    "import pandas as pd"
   ]
  },
  {
   "cell_type": "code",
   "execution_count": 2,
   "metadata": {},
   "outputs": [],
   "source": [
    "# Scrape 1st page\n",
    "url = 'http://www.bailii.org/cgi-bin/lucy_search_1.cgi?query=%22Planning+court%22+AND+%28%22The+Royal+Courts+of+Justice%22+OR+%22Supreme+Court%22+OR+%22Manchester+Civil+Justice+Centre%22%29&datelow=&datehigh=&sort=date&highlight=1'\n",
    "http = urllib3.PoolManager()\n",
    "response = http.request('GET', url)\n",
    "soup = BeautifulSoup(response.data)"
   ]
  },
  {
   "cell_type": "code",
   "execution_count": 3,
   "metadata": {
    "scrolled": true
   },
   "outputs": [],
   "source": [
    "# Find links\n",
    "links = []\n",
    "for data in soup.find_all('li'):\n",
    "    for a in data.find_all('a'):\n",
    "        links.append('http://www.bailii.org'+a.get('href')) #for getting link\n",
    "# Disregard non relevant links (one on two)\n",
    "links = links[1::2]"
   ]
  },
  {
   "cell_type": "code",
   "execution_count": 4,
   "metadata": {},
   "outputs": [],
   "source": [
    "# Extract cases content, clean html tag and store cases in list\n",
    "list_cases = []\n",
    "counter = 0\n",
    "for i in links:\n",
    "    case_request = http.request('GET',i)\n",
    "    counter += 1\n",
    "    list_cases.append(BeautifulSoup(case_request.data).text)\n",
    "    \n",
    "# Clean text and split text in list of lines\n",
    "clean_cases = []\n",
    "for i in list_cases:\n",
    "    text = str(i).split('\\n')    \n",
    "    text = list(filter(None,text))\n",
    "    clean_cases.append(text)"
   ]
  },
  {
   "cell_type": "markdown",
   "metadata": {},
   "source": [
    "## 1. Case name, url, dates, week, cite as, case number"
   ]
  },
  {
   "cell_type": "code",
   "execution_count": 5,
   "metadata": {},
   "outputs": [],
   "source": [
    "# Extract case name, url, n*\n",
    "case_name = []\n",
    "case_url = []\n",
    "for i in clean_cases:\n",
    "    case_name.append(i[23:24])\n",
    "    case_url.append(i[24:25])"
   ]
  },
  {
   "cell_type": "code",
   "execution_count": 6,
   "metadata": {},
   "outputs": [],
   "source": [
    "# Create pandas dataframe with Case name\n",
    "df = pd.DataFrame(case_name, columns=['case_name'])\n",
    "# Add url\n",
    "df['url'] = [i.replace('URL: ','') for i in list(map(''.join,case_url))]\n",
    "# Add dates\n",
    "case_date = [re.findall('(\\d\\d\\s[a-z]+\\s\\d{4})',str(i),re.IGNORECASE) for i in case_name]\n",
    "df['date'] = list(map(''.join,case_date))\n",
    "df['date'] = pd.to_datetime(df['date'])\n",
    "# Add week\n",
    "df['week'] = df['date'].dt.strftime('%YWk%w')\n",
    "# Cite as\n",
    "df['cite_as'] = [i[25:28] for i in clean_cases]"
   ]
  },
  {
   "cell_type": "code",
   "execution_count": 7,
   "metadata": {},
   "outputs": [
    {
     "data": {
      "text/html": [
       "<div>\n",
       "<style scoped>\n",
       "    .dataframe tbody tr th:only-of-type {\n",
       "        vertical-align: middle;\n",
       "    }\n",
       "\n",
       "    .dataframe tbody tr th {\n",
       "        vertical-align: top;\n",
       "    }\n",
       "\n",
       "    .dataframe thead th {\n",
       "        text-align: right;\n",
       "    }\n",
       "</style>\n",
       "<table border=\"1\" class=\"dataframe\">\n",
       "  <thead>\n",
       "    <tr style=\"text-align: right;\">\n",
       "      <th></th>\n",
       "      <th>case_name</th>\n",
       "      <th>url</th>\n",
       "      <th>date</th>\n",
       "      <th>week</th>\n",
       "      <th>cite_as</th>\n",
       "    </tr>\n",
       "  </thead>\n",
       "  <tbody>\n",
       "    <tr>\n",
       "      <th>0</th>\n",
       "      <td>Binning Property Corporation Ltd v Secre...</td>\n",
       "      <td>http://www.bailii.org/ew/cases/EWCA/Civ/20...</td>\n",
       "      <td>2019-02-28</td>\n",
       "      <td>2019Wk4</td>\n",
       "      <td>[Cite as: , [2019] EWCA Civ 250,     ]</td>\n",
       "    </tr>\n",
       "    <tr>\n",
       "      <th>1</th>\n",
       "      <td>Visao Ltd v The Secretary of State for H...</td>\n",
       "      <td>http://www.bailii.org/ew/cases/EWHC/Admin/...</td>\n",
       "      <td>2019-02-14</td>\n",
       "      <td>2019Wk4</td>\n",
       "      <td>[Cite as: , [2019] EWHC 276 (Admin),     ]</td>\n",
       "    </tr>\n",
       "    <tr>\n",
       "      <th>2</th>\n",
       "      <td>South Gloucestershire Council v Secretar...</td>\n",
       "      <td>http://www.bailii.org/ew/cases/EWHC/Admin/...</td>\n",
       "      <td>2019-02-07</td>\n",
       "      <td>2019Wk4</td>\n",
       "      <td>[Cite as: , [2019] EWHC 181 (Admin),     ]</td>\n",
       "    </tr>\n",
       "  </tbody>\n",
       "</table>\n",
       "</div>"
      ],
      "text/plain": [
       "                                           case_name  \\\n",
       "0        Binning Property Corporation Ltd v Secre...   \n",
       "1        Visao Ltd v The Secretary of State for H...   \n",
       "2        South Gloucestershire Council v Secretar...   \n",
       "\n",
       "                                                 url       date     week  \\\n",
       "0      http://www.bailii.org/ew/cases/EWCA/Civ/20... 2019-02-28  2019Wk4   \n",
       "1      http://www.bailii.org/ew/cases/EWHC/Admin/... 2019-02-14  2019Wk4   \n",
       "2      http://www.bailii.org/ew/cases/EWHC/Admin/... 2019-02-07  2019Wk4   \n",
       "\n",
       "                                      cite_as  \n",
       "0      [Cite as: , [2019] EWCA Civ 250,     ]  \n",
       "1  [Cite as: , [2019] EWHC 276 (Admin),     ]  \n",
       "2  [Cite as: , [2019] EWHC 181 (Admin),     ]  "
      ]
     },
     "execution_count": 7,
     "metadata": {},
     "output_type": "execute_result"
    }
   ],
   "source": [
    "df.head(3)"
   ]
  },
  {
   "cell_type": "code",
   "execution_count": 8,
   "metadata": {},
   "outputs": [],
   "source": [
    "# Function to replace values\n",
    "\n",
    "# Function to extact elements between tag\n",
    "def extractor(tag):\n",
    "    '''\n",
    "    Function used to extract elements within relevant html tag\n",
    "    tag (string): html tag to search\n",
    "    Return a dictionary with the values extracted. Key is esquivalent to the decision index in pd dataframe.\n",
    "    ''' \n",
    "    dictionary = {}\n",
    "    counter = -1 \n",
    "    for i in links:\n",
    "        counter += 1\n",
    "        url = i\n",
    "        response = http.request('GET', i)\n",
    "        soup = BeautifulSoup(response.data)\n",
    "        var = soup.select(tag)\n",
    "        dictionary[counter] = re.sub(\"<.*?>\", \" \", str(var[0]))\n",
    "\n",
    "    return dictionary   "
   ]
  },
  {
   "cell_type": "markdown",
   "metadata": {},
   "source": [
    "## 2. Case num"
   ]
  },
  {
   "cell_type": "code",
   "execution_count": 9,
   "metadata": {},
   "outputs": [],
   "source": [
    "case_num = extractor('casenum')\n",
    "df['casenum'] = df.index.map(case_num)"
   ]
  },
  {
   "cell_type": "markdown",
   "metadata": {},
   "source": [
    "## 3. Judges"
   ]
  },
  {
   "cell_type": "code",
   "execution_count": 10,
   "metadata": {},
   "outputs": [],
   "source": [
    "judges_all = extractor('panel')\n",
    "df['judges'] = df.index.map(judges_all)"
   ]
  },
  {
   "cell_type": "markdown",
   "metadata": {},
   "source": [
    "## 4. Court names"
   ]
  },
  {
   "cell_type": "code",
   "execution_count": 11,
   "metadata": {},
   "outputs": [],
   "source": [
    "court_all = extractor('court')\n",
    "df['court'] = df.index.map(court_all)"
   ]
  },
  {
   "cell_type": "markdown",
   "metadata": {},
   "source": [
    "## 5. Authorithies"
   ]
  },
  {
   "cell_type": "code",
   "execution_count": 12,
   "metadata": {
    "scrolled": false
   },
   "outputs": [],
   "source": [
    "authorities = extractor('parties')\n",
    "authority_all = []\n",
    "for key, value in authorities.items():\n",
    "    case = []\n",
    "    test = [s.strip() for s in re.split(\"and|\\n\", value)]\n",
    "    for i in test:\n",
    "        if any(re.findall('COUNCIL|BOROUGH|CITY|AUTHORITY', i,re.IGNORECASE)):\n",
    "                    case.append(i)\n",
    "    authority_all.append(case)\n",
    "df['authorities'] = authority_all"
   ]
  },
  {
   "cell_type": "code",
   "execution_count": 13,
   "metadata": {},
   "outputs": [
    {
     "data": {
      "text/html": [
       "<div>\n",
       "<style scoped>\n",
       "    .dataframe tbody tr th:only-of-type {\n",
       "        vertical-align: middle;\n",
       "    }\n",
       "\n",
       "    .dataframe tbody tr th {\n",
       "        vertical-align: top;\n",
       "    }\n",
       "\n",
       "    .dataframe thead th {\n",
       "        text-align: right;\n",
       "    }\n",
       "</style>\n",
       "<table border=\"1\" class=\"dataframe\">\n",
       "  <thead>\n",
       "    <tr style=\"text-align: right;\">\n",
       "      <th></th>\n",
       "      <th>case_name</th>\n",
       "      <th>url</th>\n",
       "      <th>date</th>\n",
       "      <th>week</th>\n",
       "      <th>cite_as</th>\n",
       "      <th>casenum</th>\n",
       "      <th>judges</th>\n",
       "      <th>court</th>\n",
       "      <th>authorities</th>\n",
       "    </tr>\n",
       "  </thead>\n",
       "  <tbody>\n",
       "    <tr>\n",
       "      <th>0</th>\n",
       "      <td>Binning Property Corporation Ltd v Secre...</td>\n",
       "      <td>http://www.bailii.org/ew/cases/EWCA/Civ/20...</td>\n",
       "      <td>2019-02-28</td>\n",
       "      <td>2019Wk4</td>\n",
       "      <td>[Cite as: , [2019] EWCA Civ 250,     ]</td>\n",
       "      <td>Case No: C1/2018/1297</td>\n",
       "      <td>Lady Justice Sharp and Lord Justice Lindblom</td>\n",
       "      <td>IN THE COURT OF APPEAL (CIVIL DIVISION) ON AP...</td>\n",
       "      <td>[-                       London Borough of Hav...</td>\n",
       "    </tr>\n",
       "    <tr>\n",
       "      <th>1</th>\n",
       "      <td>Visao Ltd v The Secretary of State for H...</td>\n",
       "      <td>http://www.bailii.org/ew/cases/EWHC/Admin/...</td>\n",
       "      <td>2019-02-14</td>\n",
       "      <td>2019Wk4</td>\n",
       "      <td>[Cite as: , [2019] EWHC 276 (Admin),     ]</td>\n",
       "      <td>Case No: C0/3981/2018</td>\n",
       "      <td>NEIL  CAMERON QC (Sitting as a Deputy High Co...</td>\n",
       "      <td>IN THE HIGH COURT OF JUSTICE QUEEN'S BENCH DI...</td>\n",
       "      <td>[CHILTERN DISTRICT COUNCIL]</td>\n",
       "    </tr>\n",
       "  </tbody>\n",
       "</table>\n",
       "</div>"
      ],
      "text/plain": [
       "                                           case_name  \\\n",
       "0        Binning Property Corporation Ltd v Secre...   \n",
       "1        Visao Ltd v The Secretary of State for H...   \n",
       "\n",
       "                                                 url       date     week  \\\n",
       "0      http://www.bailii.org/ew/cases/EWCA/Civ/20... 2019-02-28  2019Wk4   \n",
       "1      http://www.bailii.org/ew/cases/EWHC/Admin/... 2019-02-14  2019Wk4   \n",
       "\n",
       "                                      cite_as                  casenum  \\\n",
       "0      [Cite as: , [2019] EWCA Civ 250,     ]   Case No: C1/2018/1297    \n",
       "1  [Cite as: , [2019] EWHC 276 (Admin),     ]   Case No: C0/3981/2018    \n",
       "\n",
       "                                              judges  \\\n",
       "0      Lady Justice Sharp and Lord Justice Lindblom    \n",
       "1   NEIL  CAMERON QC (Sitting as a Deputy High Co...   \n",
       "\n",
       "                                               court  \\\n",
       "0   IN THE COURT OF APPEAL (CIVIL DIVISION) ON AP...   \n",
       "1   IN THE HIGH COURT OF JUSTICE QUEEN'S BENCH DI...   \n",
       "\n",
       "                                         authorities  \n",
       "0  [-                       London Borough of Hav...  \n",
       "1                        [CHILTERN DISTRICT COUNCIL]  "
      ]
     },
     "execution_count": 13,
     "metadata": {},
     "output_type": "execute_result"
    }
   ],
   "source": [
    "df.head(2)"
   ]
  },
  {
   "cell_type": "markdown",
   "metadata": {},
   "source": [
    "## 6. Relevant act"
   ]
  },
  {
   "cell_type": "code",
   "execution_count": 14,
   "metadata": {},
   "outputs": [],
   "source": [
    "# Extracting body data, appending acts to list & creating dictionary \n",
    "cases_body = []\n",
    "list_acts = []\n",
    "dict_acts = {}\n",
    "counter = 0\n",
    "\n",
    "for case in links:\n",
    "    response = http.request('GET', case)\n",
    "    soup_case = BeautifulSoup(response.data)\n",
    "    body = soup_case.body\n",
    "    cases_body.append(body.find_all(['li','p'])) \n",
    "    for i in re.findall('(section.+?\\s\\d{4})',str(cases_body[0]),re.IGNORECASE):\n",
    "        if len(i) <= 100:\n",
    "            list_acts.append(i)       \n",
    "    dict_acts[counter] = list_acts\n",
    "    list_acts = []\n",
    "    cases_body = []\n",
    "    counter += 1    "
   ]
  },
  {
   "cell_type": "code",
   "execution_count": 15,
   "metadata": {},
   "outputs": [],
   "source": [
    "# Formatting dictionnary to pandas dataframe and joining to current df\n",
    "act_index = []\n",
    "act_list = []\n",
    "\n",
    "for keys, values in dict_acts.items():\n",
    "    for values in dict_acts[keys]:\n",
    "        # itterating trough values and adding to seperate list + filling empty values\n",
    "        act_index.append(keys)\n",
    "        act_list.append(values)\n",
    "\n",
    "\n",
    "d = {'act_index':act_index,'act_list':act_list}\n",
    "\n",
    "# Create pandas data frame \n",
    "act_dataframe = pd.DataFrame(d)"
   ]
  },
  {
   "cell_type": "code",
   "execution_count": 16,
   "metadata": {},
   "outputs": [],
   "source": [
    "# Counting number of cases cited several times and removing duplicate values\n",
    "act_dataframe['nr_act'] = act_dataframe['act_list'].apply(act_dataframe['act_list'].tolist().count)\n",
    "act_dataframe = act_dataframe.drop_duplicates(subset=['act_index','act_list'])\n",
    "act_dataframe.sort_values(by=['act_index'], inplace=True, ascending=True)"
   ]
  },
  {
   "cell_type": "code",
   "execution_count": 17,
   "metadata": {},
   "outputs": [],
   "source": [
    "# String formatting \n",
    "act_dataframe['nr_act'] = act_dataframe['nr_act'].apply(lambda x: '{'+str(x)+'}')\n",
    "\n",
    "# Cleaning of data frame \n",
    "act_dataframe['act_list'] = act_dataframe['act_list'] + ' // ' + act_dataframe['nr_act']\n",
    "act_dataframe = act_dataframe.drop(columns=['nr_act'])\n"
   ]
  },
  {
   "cell_type": "code",
   "execution_count": 18,
   "metadata": {},
   "outputs": [],
   "source": [
    "# creation of dictionary of list based on case_index\n",
    "act_dict = {}\n",
    "temp_list = []\n",
    "counter = 0\n",
    "\n",
    "for i in range(0,10):\n",
    "    temp_list = []\n",
    "    for case in act_dataframe.iterrows():\n",
    "        if i == case[1][0]:\n",
    "            temp_list.append(case[1][1])\n",
    "        else:\n",
    "            act_dict[i] = temp_list\n",
    "                   \n",
    "df['cited_act'] = df.index.map(act_dict)"
   ]
  },
  {
   "cell_type": "markdown",
   "metadata": {},
   "source": [
    "## 7. Key cases"
   ]
  },
  {
   "cell_type": "code",
   "execution_count": 19,
   "metadata": {},
   "outputs": [],
   "source": [
    "# Extracting body raw data\n",
    "cases_body = []\n",
    "for i in links:\n",
    "    response = http.request('GET', i)\n",
    "    soup_case = BeautifulSoup(response.data)\n",
    "    body = soup_case.body\n",
    "    cases_body.append(body.find_all(['li','p']))  "
   ]
  },
  {
   "cell_type": "code",
   "execution_count": 20,
   "metadata": {},
   "outputs": [],
   "source": [
    "# Creating a dicitonary with cases & relevant cases per decision\n",
    "key_cases = {}\n",
    "counter = -1\n",
    "for case in range(0,len(links)):\n",
    "    cases = []\n",
    "    \n",
    "    # Extract key cases based on html tags\n",
    "    for i in range(0,len(cases_body[case])):\n",
    "        for val in cases_body[case][i].findAll(['i','a','u'],attrs= {\"name\":False}):\n",
    "            try:\n",
    "                if (val.name == 'i' or 'u') and 'v.' in val.string:\n",
    "                    cases.append(val.string)\n",
    "                elif (val.name == 'i' or 'u') and (' v ') in val.string:\n",
    "                    cases.append(val.string)\n",
    "                else:\n",
    "                    pass\n",
    "                if (val.get('href') == None) or ('cgi-bin' in val.get('href')):\n",
    "                    pass\n",
    "                else:\n",
    "                    url = 'http://www.bailii.org'+val.get('href')\n",
    "                    cases.append(url)\n",
    "            except:\n",
    "                cases.append('')\n",
    "    counter += 1\n",
    "    \n",
    "    # Cleaning and creating dic\n",
    "    cases.remove('http://www.bailii.org/form/search_cases.html')\n",
    "    cases.remove('http://www.bailii.org/bailii/help/')\n",
    "    key_cases[counter] = cases[1:]"
   ]
  },
  {
   "cell_type": "code",
   "execution_count": 21,
   "metadata": {},
   "outputs": [],
   "source": [
    "# Formatting dictionnary to pandas dataframe and joining to current df\n",
    "case_index = []\n",
    "key_cases_list = []\n",
    "link = []\n",
    "\n",
    "for keys, values in key_cases.items():\n",
    "    for values in key_cases[keys]:\n",
    "        # itterating trough values and adding to seperate list + filling empty values\n",
    "        case_index.append(keys)\n",
    "        if 'http' in values:\n",
    "            \n",
    "            link.append(values)\n",
    "            key_cases_list.append(saver)\n",
    "            \n",
    "        else:\n",
    "            key_cases_list.append(values)\n",
    "            link.append('No link available')\n",
    "        \n",
    "        saver = values\n",
    "\n",
    "d = {'case_index':case_index,'key_cases_list':key_cases_list, 'link':link}\n",
    "\n",
    "# Create pandas data frame + counting duplicates + cleaning\n",
    "key_cases_dataframe = pd.DataFrame(d)"
   ]
  },
  {
   "cell_type": "code",
   "execution_count": 22,
   "metadata": {
    "scrolled": true
   },
   "outputs": [],
   "source": [
    "# Counting number of cases cited several times and removing duplicate values\n",
    "key_cases_dataframe['nr_citation'] = key_cases_dataframe['key_cases_list'].apply(key_cases_dataframe['key_cases_list'].tolist().count)\n",
    "key_cases_dataframe.sort_values(by=['link'], inplace=True, ascending=False)\n",
    "key_cases_dataframe = key_cases_dataframe.drop_duplicates(subset=['case_index','key_cases_list','link'], keep='first')\n",
    "key_cases_dataframe.sort_values(by=['case_index'], inplace=True, ascending=True)\n"
   ]
  },
  {
   "cell_type": "code",
   "execution_count": 23,
   "metadata": {},
   "outputs": [],
   "source": [
    "# String formatting \n",
    "key_cases_dataframe['nr_citation'] = key_cases_dataframe['nr_citation'].apply(lambda x: '{'+str(x)+'}')\n",
    "\n",
    "# Cleaning of data frame \n",
    "key_cases_dataframe['case_cited'] = key_cases_dataframe['key_cases_list'] + ' // ' + key_cases_dataframe['nr_citation'] + ' ' + key_cases_dataframe['link']\n",
    "key_cases_dataframe = key_cases_dataframe.drop(columns=['key_cases_list','link','nr_citation'])\n",
    "\n",
    "# creation of dictionary of list based on case_index\n",
    "case_cited_dict = {}\n",
    "temp_list = []\n",
    "counter = 0\n",
    "\n",
    "for i in range(0,10):\n",
    "    temp_list = []\n",
    "    for case in key_cases_dataframe.iterrows():\n",
    "        if i == case[1][0]:\n",
    "            temp_list.append(case[1][1])\n",
    "        else:\n",
    "            case_cited_dict[i] = temp_list\n",
    "                   \n",
    "df['cited_cases'] = df.index.map(case_cited_dict)"
   ]
  },
  {
   "cell_type": "code",
   "execution_count": 37,
   "metadata": {},
   "outputs": [],
   "source": [
    "df.to_csv('10 most recent case data extract.csv')"
   ]
  },
  {
   "cell_type": "code",
   "execution_count": null,
   "metadata": {},
   "outputs": [],
   "source": []
  }
 ],
 "metadata": {
  "kernelspec": {
   "display_name": "Python (spacy)",
   "language": "python",
   "name": "spacy"
  },
  "language_info": {
   "codemirror_mode": {
    "name": "ipython",
    "version": 3
   },
   "file_extension": ".py",
   "mimetype": "text/x-python",
   "name": "python",
   "nbconvert_exporter": "python",
   "pygments_lexer": "ipython3",
   "version": "3.6.2"
  },
  "varInspector": {
   "cols": {
    "lenName": 16,
    "lenType": 16,
    "lenVar": 40
   },
   "kernels_config": {
    "python": {
     "delete_cmd_postfix": "",
     "delete_cmd_prefix": "del ",
     "library": "var_list.py",
     "varRefreshCmd": "print(var_dic_list())"
    },
    "r": {
     "delete_cmd_postfix": ") ",
     "delete_cmd_prefix": "rm(",
     "library": "var_list.r",
     "varRefreshCmd": "cat(var_dic_list()) "
    }
   },
   "types_to_exclude": [
    "module",
    "function",
    "builtin_function_or_method",
    "instance",
    "_Feature"
   ],
   "window_display": false
  }
 },
 "nbformat": 4,
 "nbformat_minor": 2
}
